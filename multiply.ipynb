{
 "cells": [
  {
   "cell_type": "code",
   "execution_count": 1,
   "metadata": {},
   "outputs": [],
   "source": [
    "import qiskit as qk\n",
    "from qiskit import QuantumCircuit\n",
    "from qiskit import transpile, assemble\n",
    "from qiskit.tools.jupyter import *\n",
    "from qiskit.visualization import plot_histogram\n",
    "import math\n",
    "import numpy as np\n",
    "from qiskit import QuantumRegister, ClassicalRegister\n",
    "import matplotlib.pyplot as mpl\n",
    "import matplotlib.pyplot as plt\n",
    "from qiskit import Aer\n",
    "from qiskit.circuit.library.arithmetic.adders.draper_qft_adder import DraperQFTAdder\n",
    "\n",
    "from NEQR import build_neqr\n",
    "\n",
    "from utils import *"
   ]
  },
  {
   "cell_type": "markdown",
   "metadata": {},
   "source": [
    "В image_10 помещается изображение размером $4\\times 4$."
   ]
  },
  {
   "cell_type": "code",
   "execution_count": 2,
   "metadata": {},
   "outputs": [
    {
     "data": {
      "image/png": "[encoded data removed]",
      "text/plain": [
       "<Figure size 432x288 with 1 Axes>"
      ]
     },
     "metadata": {
      "needs_background": "light"
     },
     "output_type": "display_data"
    }
   ],
   "source": [
    "image_10 = [0,1,2,0,0,0,2,0,0,1,0,1,0,1,0,1]\n",
    "image = np.array([\"000\"]*16, dtype=str)\n",
    "\n",
    "for i,x in enumerate(image_10):\n",
    "    num = format(x, f\"0{len(image[0])}b\")\n",
    "    image[i] = num\n",
    "\n",
    "fig, ax = plt.subplots()\n",
    "plot_array(np.array(image_10).reshape(4,4), fig, ax)"
   ]
  },
  {
   "cell_type": "markdown",
   "metadata": {},
   "source": [
    "shifting_plus $-$ функция для реализаци сдвига на +1 по координате, соответствующей указанному регистру. В качестве параметров принимает цепь и регистр к которой применяется функция."
   ]
  },
  {
   "cell_type": "code",
   "execution_count": 3,
   "metadata": {},
   "outputs": [],
   "source": [
    "def shifting_plus(circ, q_reg): \n",
    "    n = q_reg.size\n",
    "    for i in range(1, n)[::-1]:\n",
    "        circ.mct(q_reg[0:i], q_reg[i], mode='noancilla')      \n",
    "    circ.x(q_reg[0])"
   ]
  },
  {
   "cell_type": "markdown",
   "metadata": {},
   "source": [
    "build_neqr_test $-$ функция для кодирования изображения в квантовом представлении изображения NEQR. В качестве параметров принимает изображение, которое нужно закодировать, цепь в которую нужно поместить изображение, а также регистры в этой цепи, которые будут отвечать за хранение местоположения по оси $x$ и $y$, а также значение пикселя."
   ]
  },
  {
   "cell_type": "code",
   "execution_count": 4,
   "metadata": {},
   "outputs": [],
   "source": [
    "def build_neqr_test(image: np.ndarray, NEQR_circuit, position_value_x, position_value_y, color_value):\n",
    "\n",
    "    image_size = len(image)\n",
    "\n",
    "    position_num_y = position_value_y.size\n",
    "    position_num_x = position_value_x.size\n",
    "    position_num = position_num_y + position_num_x\n",
    "\n",
    "\n",
    "    intensity_num = len(image[0])\n",
    "    intensity_num = color_value.size\n",
    "   \n",
    "    \n",
    "    for n in range(image_size):\n",
    "        value = format(n, f\"0{position_num}b\")\n",
    "        for position, position_value_value in enumerate(value[::-1]):\n",
    "            if(position_value_value ==\"0\"):\n",
    "                NEQR_circuit.x(position + intensity_num*2 + 4) \n",
    "        for position_1, px_value_1 in enumerate(image[n][::-1]):\n",
    "            if(px_value_1 == \"1\"):\n",
    "                NEQR_circuit.mct([*position_value_x, *position_value_y], color_value[position_1], mode='noancilla')  \n",
    "        for position, position_value_value in enumerate(value[::-1]):\n",
    "            if(position_value_value ==\"0\"):\n",
    "                NEQR_circuit.x(position + intensity_num*2 + 4)                     \n",
    "        NEQR_circuit.barrier()  \n"
   ]
  },
  {
   "cell_type": "markdown",
   "metadata": {},
   "source": [
    "Здесь происходит создание необходимых для хранения регистров, цепей, а также вспомогательных для умножениия и деления кубит. "
   ]
  },
  {
   "cell_type": "code",
   "execution_count": 5,
   "metadata": {},
   "outputs": [
    {
     "data": {
      "text/plain": [
       "<qiskit.circuit.instructionset.InstructionSet at 0x7faee5867680>"
      ]
     },
     "execution_count": 5,
     "metadata": {},
     "output_type": "execute_result"
    }
   ],
   "source": [
    "image_size = len(image)\n",
    "\n",
    "intensity_num = len(image[0])\n",
    "NEQR_circuit = QuantumCircuit()\n",
    "\n",
    "auxiliary = QuantumRegister(4, \"auxiliary\")\n",
    "NEQR_circuit.add_register(auxiliary)\n",
    "\n",
    "for i in range(2):\n",
    "    img = QuantumRegister(intensity_num, f\"image_{i}\")\n",
    "    NEQR_circuit.add_register(img)\n",
    "\n",
    "\n",
    "position_num_y = int(math.log(image_size, 2)/2)\n",
    "position_num_x = int(math.log(image_size, 2)/2)\n",
    "position_value_x = QuantumRegister(position_num_x, \"position_value_x\")\n",
    "position_value_y = QuantumRegister(position_num_y, \"position_value_y\")\n",
    "\n",
    "\n",
    "NEQR_circuit.add_register(position_value_x)\n",
    "NEQR_circuit.add_register(position_value_y)\n",
    "\n",
    "NEQR_circuit.h(NEQR_circuit.qregs[3][:]+NEQR_circuit.qregs[4][:]) #Переделать в автоматическое определение регистра, сейчас в ручную это делается. Устанавливается суперпозиция, перед тем как начинать навешивать схему\n"
   ]
  },
  {
   "cell_type": "markdown",
   "metadata": {},
   "source": [
    "#### Изображение со сдвигом (x+1), (y+1).\n",
    "\n",
    "Работа с первой картинкой: помещение представления изображения с помощью build_neqr_test, и реализация сдвига по оси x и y.\n",
    " "
   ]
  },
  {
   "cell_type": "code",
   "execution_count": 6,
   "metadata": {},
   "outputs": [],
   "source": [
    "build_neqr_test(image, NEQR_circuit, position_value_x, position_value_y, NEQR_circuit.qregs[1])\n",
    "shifting_plus(NEQR_circuit, NEQR_circuit.qregs[4])# (y+1) \n",
    "shifting_plus(NEQR_circuit, NEQR_circuit.qregs[3])# (x+1) "
   ]
  },
  {
   "cell_type": "markdown",
   "metadata": {},
   "source": [
    "### Оригинальное изображение"
   ]
  },
  {
   "cell_type": "code",
   "execution_count": 7,
   "metadata": {},
   "outputs": [],
   "source": [
    "build_neqr_test(image, NEQR_circuit, position_value_x, position_value_y, NEQR_circuit.qregs[2])"
   ]
  },
  {
   "cell_type": "markdown",
   "metadata": {},
   "source": [
    "Реализация умножения первого изображения на 2, а второго на 4."
   ]
  },
  {
   "cell_type": "code",
   "execution_count": 8,
   "metadata": {},
   "outputs": [],
   "source": [
    "for i in range(auxiliary.size + intensity_num - 1):\n",
    "    NEQR_circuit.swap(NEQR_circuit.qubits[i], NEQR_circuit.qubits[i + 1])\n",
    "\n",
    "\n",
    "for i in range(auxiliary.size + (intensity_num - 2)):\n",
    "    NEQR_circuit.swap(NEQR_circuit.qubits[i], NEQR_circuit.qubits[i + 1])\n",
    "    \n",
    "for i in range(auxiliary.size + (intensity_num - 3)):\n",
    "    NEQR_circuit.swap(NEQR_circuit.qubits[i], NEQR_circuit.qubits[i + 1])"
   ]
  },
  {
   "cell_type": "markdown",
   "metadata": {},
   "source": [
    "Cумма изображений с помощью DraperQFTAdder"
   ]
  },
  {
   "cell_type": "code",
   "execution_count": 9,
   "metadata": {},
   "outputs": [],
   "source": [
    "adder = DraperQFTAdder(intensity_num+2, kind = \"fixed\")\n",
    "\n",
    "NEQR_circuit = NEQR_circuit.compose(adder, qubits=NEQR_circuit.qubits[0:5] + NEQR_circuit.qubits[5:10])"
   ]
  },
  {
   "cell_type": "markdown",
   "metadata": {},
   "source": [
    "Деление суммы изображений на 2."
   ]
  },
  {
   "cell_type": "code",
   "execution_count": 10,
   "metadata": {},
   "outputs": [],
   "source": [
    "for i in range(auxiliary.size + intensity_num - 2, auxiliary.size + ((intensity_num)*2 - 1)):\n",
    "    NEQR_circuit.swap(NEQR_circuit.qubits[i], NEQR_circuit.qubits[i + 1])"
   ]
  },
  {
   "cell_type": "markdown",
   "metadata": {},
   "source": [
    "Симуляция и измерение полученной схемы."
   ]
  },
  {
   "cell_type": "code",
   "execution_count": 11,
   "metadata": {},
   "outputs": [
    {
     "name": "stdout",
     "output_type": "stream",
     "text": [
      "Transpiled\n",
      "100 shots in 0.16497302055358887s\n"
     ]
    }
   ],
   "source": [
    "from qiskit.providers.aer import AerSimulator\n",
    "\n",
    "NEQR_circuit.measure_all()\n",
    "\n",
    "extended_stabilizer_simulator = AerSimulator(method='statevector', extended_stabilizer_sampling_method = 'norm_estimation')\n",
    "extended_stabilizer_simulator.set_options(precision='single')\n",
    "\n",
    "tsmall_circ = transpile(NEQR_circuit, extended_stabilizer_simulator)\n",
    "print(\"Transpiled\")\n",
    "\n",
    "\n",
    "result = extended_stabilizer_simulator.run(tsmall_circ, shots = 20000).result()\n",
    "counts = result.get_counts(0)\n",
    "print('100 shots in {}s'.format(result.time_taken))"
   ]
  },
  {
   "cell_type": "markdown",
   "metadata": {},
   "source": [
    "Выбор наиболее вероятных состояний. Перевод значений местоположений пикселей из двоичной системы в десятичную."
   ]
  },
  {
   "cell_type": "code",
   "execution_count": 12,
   "metadata": {},
   "outputs": [],
   "source": [
    "from collections import defaultdict\n",
    "import textwrap\n",
    "\n",
    "position_size = 4\n",
    "splitter = lambda x: (int(x[0][:position_size],2), x[1],  x[0][position_size:position_size+10])\n",
    "elements = list(map(splitter, zip(counts.keys(), counts.values())))\n",
    "\n",
    "d = defaultdict(list)    \n",
    "for x in elements:\n",
    "    d[x[0]].append((x[1], list(map(lambda x: int(x,2),textwrap.wrap(x[2],5)))))\n",
    "\n",
    "res = []\n",
    "for x in d:\n",
    "    res.append((x, max(d[x])[1:]))\n",
    "\n",
    "def get_shift_array(shift_ind):\n",
    "    pixels = []\n",
    "    for i,one_pos in enumerate(sorted(res)):\n",
    "        pixels.append(one_pos[1][0][shift_ind])\n",
    "    pixels = np.array(pixels).reshape(4,4)\n",
    "    return pixels"
   ]
  },
  {
   "cell_type": "markdown",
   "metadata": {},
   "source": [
    "Визуализация результатов измерения схемы. Конечный ответ находится в первом изображении, второе изображение содержит изображение со сдвигом, умноженное на два, третье $-$ это оригинал, который изображен для наглядности."
   ]
  },
  {
   "cell_type": "code",
   "execution_count": 13,
   "metadata": {},
   "outputs": [
    {
     "data": {
      "image/png": "[encoded data removed]",
      "text/plain": [
       "<Figure size 576x576 with 4 Axes>"
      ]
     },
     "metadata": {
      "needs_background": "light"
     },
     "output_type": "display_data"
    }
   ],
   "source": [
    "fig, axes = plt.subplots(nrows = 2, ncols = 2, sharex='all', sharey='all', figsize=(8,8))\n",
    "plot_array(get_shift_array(0), fig, axes[0,0])\n",
    "plot_array(get_shift_array(1), fig, axes[0,1])\n",
    "plot_array(np.array(image_10).reshape(4,4), fig, axes[1,0])"
   ]
  }
 ],
 "metadata": {
  "interpreter": {
   "hash": "aee8b7b246df8f9039afb4144a1f6fd8d2ca17a180786b69acc140d282b71a49"
  },
  "kernelspec": {
   "display_name": "Python 3.9.6 64-bit",
   "language": "python",
   "name": "python3"
  },
  "language_info": {
   "codemirror_mode": {
    "name": "ipython",
    "version": 3
   },
   "file_extension": ".py",
   "mimetype": "text/x-python",
   "name": "python",
   "nbconvert_exporter": "python",
   "pygments_lexer": "ipython3",
   "version": "3.9.6"
  },
  "orig_nbformat": 4
 },
 "nbformat": 4,
 "nbformat_minor": 2
}
