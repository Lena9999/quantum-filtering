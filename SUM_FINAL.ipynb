{
 "cells": [
  {
   "cell_type": "code",
   "execution_count": 251,
   "metadata": {},
   "outputs": [],
   "source": [
    "import qiskit as qk\n",
    "from qiskit import QuantumCircuit, Aer, IBMQ\n",
    "from qiskit.providers.aer import AerSimulator\n",
    "from qiskit import transpile, assemble\n",
    "from qiskit.tools.jupyter import *\n",
    "from qiskit.visualization import plot_histogram\n",
    "from math import pi\n",
    "import math\n",
    "import numpy as np\n",
    "from qiskit import QuantumRegister, ClassicalRegister\n",
    "import matplotlib.pyplot as mpl\n",
    "from qiskit.circuit.library import MCMT, MCMTVChain\n",
    "from qiskit.circuit import Gate\n",
    "from random import randint\n",
    "import random\n",
    "from qiskit.circuit.library.basis_change import QFT\n",
    "from qiskit.circuit.library.arithmetic.adders.draper_qft_adder import DraperQFTAdder\n",
    "from qiskit.quantum_info import Statevector\n",
    "from qiskit import Aer, execute\n",
    "\n",
    "import qiskit as qk\n",
    "from qiskit import QuantumCircuit\n",
    "from qiskit import transpile, assemble\n",
    "from qiskit.tools.jupyter import *\n",
    "from qiskit.visualization import plot_histogram\n",
    "import math\n",
    "import numpy as np\n",
    "from qiskit import QuantumRegister, ClassicalRegister\n",
    "import matplotlib.pyplot as plt\n"
   ]
  },
  {
   "cell_type": "markdown",
   "metadata": {},
   "source": [
    "Это вспомагательная функция для построения пикселей со знаечниями."
   ]
  },
  {
   "cell_type": "code",
   "execution_count": 252,
   "metadata": {},
   "outputs": [],
   "source": [
    "def plot_array(arr, fig, ax):\n",
    "    #\n",
    "    im = ax.imshow(arr, cmap=\"gray\")\n",
    "\n",
    "    # Rotate the tick labels and set their alignment.\n",
    "    plt.setp(ax.get_xticklabels(), rotation=45, ha=\"right\",\n",
    "            rotation_mode=\"anchor\")\n",
    "\n",
    "    # Loop over data dimensions and create text annotations.\n",
    "    for i in range(arr.shape[0]):\n",
    "        for j in range(arr.shape[1]):\n",
    "            text = ax.text(j, i, arr[i, j],\n",
    "                        ha=\"center\", va=\"center\", color=\"b\", fontsize = 32)\n"
   ]
  },
  {
   "cell_type": "markdown",
   "metadata": {},
   "source": [
    "Тут ввиде списка нужно задать само изображение, и поместить его в image_10"
   ]
  },
  {
   "cell_type": "code",
   "execution_count": 253,
   "metadata": {},
   "outputs": [
    {
     "data": {
      "image/png": "[encoded data removed]",
      "text/plain": [
       "<Figure size 432x288 with 1 Axes>"
      ]
     },
     "metadata": {
      "needs_background": "light"
     },
     "output_type": "display_data"
    }
   ],
   "source": [
    "image_10 = [0,1,2,0,0,0,2,0,0,1,0,1,0,1,0,1]\n",
    "image = np.array([\"000\"]*16, dtype=str)\n",
    "\n",
    "for i,x in enumerate(image_10):\n",
    "    num = format(x, f\"0{len(image[0])}b\")\n",
    "    image[i] = num\n",
    "\n",
    "fig, ax = plt.subplots()\n",
    "plot_array(np.array(image_10).reshape(4,4), fig, ax)"
   ]
  },
  {
   "cell_type": "markdown",
   "metadata": {},
   "source": [
    "#### Реализация shift +1"
   ]
  },
  {
   "cell_type": "code",
   "execution_count": 254,
   "metadata": {},
   "outputs": [],
   "source": [
    "# Эта функция реализует увеличене x/y на единицу (x+1)/(y+1)\n",
    "def shifting_plus(circ, q_reg): \n",
    "    n = q_reg.size\n",
    "    for i in range(1, n)[::-1]:\n",
    "        circ.mct(q_reg[0:i], q_reg[i], mode='noancilla')      \n",
    "    circ.x(q_reg[0])"
   ]
  },
  {
   "cell_type": "markdown",
   "metadata": {},
   "source": [
    "#### Реализация shift -1"
   ]
  },
  {
   "cell_type": "code",
   "execution_count": 255,
   "metadata": {},
   "outputs": [],
   "source": [
    "# Эта функция реализует уменьшение x/y на единицу (x-1)/(y-1).\n",
    "def shifting_minus(circ, q_reg): #Начиная с какого кубита будут применяться управляющие x гейты\n",
    "    n = q_reg.size\n",
    "    circ.x(q_reg[0:n])\n",
    "    for i in range(1, n)[::-1]:\n",
    "        circ.mct(q_reg[0:i], q_reg[i], mode='noancilla')      \n",
    "    circ.x(q_reg[0])\n",
    "    #circ.barrier()\n",
    "    circ.x(q_reg[0:n])"
   ]
  },
  {
   "cell_type": "markdown",
   "metadata": {},
   "source": [
    "#### Функция для построения модели NEQR"
   ]
  },
  {
   "cell_type": "code",
   "execution_count": 256,
   "metadata": {},
   "outputs": [],
   "source": [
    "def build_neqr_test(image: np.ndarray, NEQR_circuit, position_value_x, position_value_y, color_value):\n",
    "\n",
    "    image_size = len(image)\n",
    "\n",
    "    position_num_y = position_value_y.size\n",
    "    position_num_x = position_value_x.size\n",
    "    position_num = position_num_y + position_num_x\n",
    "\n",
    "\n",
    "    intensity_num = len(image[0])\n",
    "    intensity_num = color_value.size\n",
    "   \n",
    "    \n",
    "    for n in range(image_size):\n",
    "        value = format(n, f\"0{position_num}b\")\n",
    "        for position, position_value_value in enumerate(value[::-1]):\n",
    "            if(position_value_value ==\"0\"):\n",
    "                NEQR_circuit.x(position + intensity_num*8) \n",
    "        for position_1, px_value_1 in enumerate(image[n][::-1]):\n",
    "            if(px_value_1 == \"1\"):\n",
    "                NEQR_circuit.mct([*position_value_x, *position_value_y], color_value[position_1], mode='noancilla')  \n",
    "        for position, position_value_value in enumerate(value[::-1]):\n",
    "            if(position_value_value ==\"0\"):\n",
    "                NEQR_circuit.x(position + intensity_num*8)                     \n",
    "        NEQR_circuit.barrier()  \n"
   ]
  },
  {
   "cell_type": "markdown",
   "metadata": {},
   "source": [
    "##### Создание места для 9 копий"
   ]
  },
  {
   "cell_type": "code",
   "execution_count": 257,
   "metadata": {},
   "outputs": [
    {
     "data": {
      "text/plain": [
       "<qiskit.circuit.instructionset.InstructionSet at 0x7f3693492c00>"
      ]
     },
     "execution_count": 257,
     "metadata": {},
     "output_type": "execute_result"
    }
   ],
   "source": [
    "image_size = len(image)\n",
    "\n",
    "intensity_num = len(image[0])\n",
    "NEQR_circuit = QuantumCircuit()\n",
    "\n",
    "for i in range(8):\n",
    "    img = QuantumRegister(intensity_num, f\"image_{i}\")\n",
    "    NEQR_circuit.add_register(img)\n",
    "\n",
    "position_num_y = int(math.log(image_size, 2)/2)\n",
    "position_num_x = int(math.log(image_size, 2)/2)\n",
    "position_value_x = QuantumRegister(position_num_x, \"position_value_x\")\n",
    "position_value_y = QuantumRegister(position_num_y, \"position_value_y\")\n",
    "\n",
    "NEQR_circuit.add_register(position_value_x)\n",
    "NEQR_circuit.add_register(position_value_y)\n",
    "\n",
    "NEQR_circuit.h(NEQR_circuit.qregs[8][:]+NEQR_circuit.qregs[9][:]) #Переделать в автоматическое определение регистра, сейчас в ручную это делается\n"
   ]
  },
  {
   "cell_type": "markdown",
   "metadata": {},
   "source": [
    "##### 1 копия"
   ]
  },
  {
   "cell_type": "code",
   "execution_count": 258,
   "metadata": {},
   "outputs": [],
   "source": [
    "build_neqr_test(image, NEQR_circuit, position_value_x, position_value_y, NEQR_circuit.qregs[0])\n",
    "\n",
    "shifting_plus(NEQR_circuit, NEQR_circuit.qregs[9])# (y+1)   \n"
   ]
  },
  {
   "cell_type": "markdown",
   "metadata": {},
   "source": [
    "##### 2 копия"
   ]
  },
  {
   "cell_type": "code",
   "execution_count": 259,
   "metadata": {},
   "outputs": [],
   "source": [
    "build_neqr_test(image, NEQR_circuit, position_value_x, position_value_y, NEQR_circuit.qregs[1])\n",
    "\n",
    "shifting_plus(NEQR_circuit, NEQR_circuit.qregs[9])# (y+1)  "
   ]
  },
  {
   "cell_type": "markdown",
   "metadata": {},
   "source": [
    "##### 3 копия"
   ]
  },
  {
   "cell_type": "code",
   "execution_count": 260,
   "metadata": {},
   "outputs": [],
   "source": [
    "build_neqr_test(image, NEQR_circuit, position_value_x, position_value_y, NEQR_circuit.qregs[2])\n",
    "\n",
    "shifting_minus(NEQR_circuit, NEQR_circuit.qregs[9])# (y-1) \n",
    "shifting_minus(NEQR_circuit, NEQR_circuit.qregs[9])# (y-1) \n",
    "\n",
    "shifting_plus(NEQR_circuit, NEQR_circuit.qregs[8])# (x+1) \n",
    "shifting_plus(NEQR_circuit, NEQR_circuit.qregs[8])# (x+1) "
   ]
  },
  {
   "cell_type": "markdown",
   "metadata": {},
   "source": [
    "##### 4 копия"
   ]
  },
  {
   "cell_type": "code",
   "execution_count": 261,
   "metadata": {},
   "outputs": [],
   "source": [
    "build_neqr_test(image, NEQR_circuit, position_value_x, position_value_y, NEQR_circuit.qregs[3])\n",
    "\n",
    "shifting_plus(NEQR_circuit, NEQR_circuit.qregs[9])# (y+1) \n",
    "shifting_plus(NEQR_circuit, NEQR_circuit.qregs[9])# (y+1) "
   ]
  },
  {
   "cell_type": "markdown",
   "metadata": {},
   "source": [
    "##### 5 копия"
   ]
  },
  {
   "cell_type": "code",
   "execution_count": 262,
   "metadata": {},
   "outputs": [],
   "source": [
    "build_neqr_test(image, NEQR_circuit, position_value_x, position_value_y, NEQR_circuit.qregs[4])\n",
    "\n",
    "shifting_minus(NEQR_circuit, NEQR_circuit.qregs[9])# (y-1) "
   ]
  },
  {
   "cell_type": "markdown",
   "metadata": {},
   "source": [
    "##### 6 копия"
   ]
  },
  {
   "cell_type": "code",
   "execution_count": 263,
   "metadata": {},
   "outputs": [],
   "source": [
    "build_neqr_test(image, NEQR_circuit, position_value_x, position_value_y, NEQR_circuit.qregs[5])\n",
    "\n",
    "shifting_minus(NEQR_circuit, NEQR_circuit.qregs[9])# (y-1) \n",
    "shifting_minus(NEQR_circuit, NEQR_circuit.qregs[8])# (x-1) "
   ]
  },
  {
   "cell_type": "markdown",
   "metadata": {},
   "source": [
    "##### 7 копия"
   ]
  },
  {
   "cell_type": "code",
   "execution_count": 264,
   "metadata": {},
   "outputs": [],
   "source": [
    "build_neqr_test(image, NEQR_circuit, position_value_x, position_value_y, NEQR_circuit.qregs[6])\n",
    "\n",
    "shifting_plus(NEQR_circuit, NEQR_circuit.qregs[9])# (y+1) \n",
    "shifting_plus(NEQR_circuit, NEQR_circuit.qregs[9])# (y+1) "
   ]
  },
  {
   "cell_type": "markdown",
   "metadata": {},
   "source": [
    "##### 8 копия"
   ]
  },
  {
   "cell_type": "code",
   "execution_count": 265,
   "metadata": {},
   "outputs": [],
   "source": [
    "build_neqr_test(image, NEQR_circuit, position_value_x, position_value_y, NEQR_circuit.qregs[7])\n",
    "\n",
    "shifting_minus(NEQR_circuit, NEQR_circuit.qregs[9])# (y-1) "
   ]
  },
  {
   "cell_type": "markdown",
   "metadata": {},
   "source": [
    "##### 9 копия"
   ]
  },
  {
   "cell_type": "code",
   "execution_count": 266,
   "metadata": {},
   "outputs": [],
   "source": [
    "#build_neqr_test(image, NEQR_circuit, position_value_x, position_value_y, NEQR_circuit.qregs[8])"
   ]
  },
  {
   "cell_type": "markdown",
   "metadata": {},
   "source": [
    "#### Реализуем сумму\n",
    "\n",
    "Пока предполагается что сумма не выходит за пределелы 8 кубит, потом можно будет добавить необходимое количество кубит\n",
    "\n",
    "%adder = DraperQFTAdder(2, kind = \"fixed\")\n",
    "\n",
    "%NEQR_circuit = NEQR_circuit.compose(adder, qubits=[color_value[6], color_value[7]] + [position_x[0], position_x[1]])"
   ]
  },
  {
   "cell_type": "code",
   "execution_count": 267,
   "metadata": {},
   "outputs": [],
   "source": [
    "adder = DraperQFTAdder(intensity_num, kind = \"fixed\")\n",
    "for i in range(7):\n",
    "    NEQR_circuit = NEQR_circuit.compose(adder, qubits=NEQR_circuit.qregs[i][0:intensity_num] + NEQR_circuit.qregs[i+1][0:intensity_num])"
   ]
  },
  {
   "cell_type": "markdown",
   "metadata": {},
   "source": [
    "### Измерение"
   ]
  },
  {
   "cell_type": "code",
   "execution_count": 269,
   "metadata": {},
   "outputs": [],
   "source": [
    "from qiskit import transpile\n",
    "\n",
    "#a = ClassicalRegister(size = 7, name = \"clbits\")\n",
    "\n",
    "#NEQR_circuit.add_register(a)\n",
    "\n",
    "\n",
    "#NEQR_circuit.measure([27,26,25,24,23,22,21], [6,5,4,3,2,1,0])\n",
    "\n",
    "NEQR_circuit.measure_all()\n"
   ]
  },
  {
   "cell_type": "code",
   "execution_count": 270,
   "metadata": {},
   "outputs": [
    {
     "name": "stdout",
     "output_type": "stream",
     "text": [
      "Transpiled\n",
      "100 shots in 28.399163722991943s\n"
     ]
    }
   ],
   "source": [
    "#NEQR_circuit.measure_all()\n",
    "#\n",
    "extended_stabilizer_simulator = AerSimulator(method='statevector', extended_stabilizer_sampling_method = 'norm_estimation', device='GPU')\n",
    "extended_stabilizer_simulator.set_options(precision='single')\n",
    "\n",
    "tsmall_circ = transpile(NEQR_circuit, extended_stabilizer_simulator)\n",
    "print(\"Transpiled\")\n",
    "\n",
    "\n",
    "result = extended_stabilizer_simulator.run(tsmall_circ, shots=100000).result()\n",
    "counts = result.get_counts(0)\n",
    "print('100 shots in {}s'.format(result.time_taken))"
   ]
  },
  {
   "cell_type": "code",
   "execution_count": 271,
   "metadata": {},
   "outputs": [],
   "source": [
    "from collections import defaultdict\n",
    "import textwrap\n",
    "\n",
    "position_size = 4\n",
    "splitter = lambda x: (int(x[0][:4],2), x[1],  x[0][4:])\n",
    "elements = list(map(splitter, zip(counts.keys(), counts.values())))\n",
    "\n",
    "d = defaultdict(list)    \n",
    "for x in elements:\n",
    "    if(x[1] > 10):\n",
    "        d[x[0]].append((x[1], list(map(lambda x: int(x,2),textwrap.wrap(x[2],3)))))"
   ]
  },
  {
   "cell_type": "code",
   "execution_count": 272,
   "metadata": {},
   "outputs": [],
   "source": [
    "\n",
    "res = []\n",
    "\n",
    "for x in d:\n",
    "    res.append((x, max(d[x])[1:]))"
   ]
  },
  {
   "cell_type": "code",
   "execution_count": 273,
   "metadata": {},
   "outputs": [],
   "source": [
    "def get_shift_array(shift_ind):\n",
    "    pixels = []\n",
    "    for i,one_pos in enumerate(sorted(res)):\n",
    "        pixels.append(one_pos[1][0][shift_ind])\n",
    "    pixels = np.array(pixels).reshape(4,4)\n",
    "    return pixels"
   ]
  },
  {
   "cell_type": "code",
   "execution_count": 274,
   "metadata": {},
   "outputs": [
    {
     "data": {
      "image/png": "[encoded data removed]",
      "text/plain": [
       "<Figure size 864x864 with 9 Axes>"
      ]
     },
     "metadata": {
      "needs_background": "light"
     },
     "output_type": "display_data"
    }
   ],
   "source": [
    "fig, axes = plt.subplots(nrows = 3, ncols = 3, sharex='all', sharey='all', figsize=(12,12))\n",
    "\n",
    "\n",
    "plot_array(np.array(image_10).reshape(4,4), fig, axes[1,1])\n",
    "\n",
    "\n",
    "\n",
    "plot_array(get_shift_array(7), fig, axes[0,0])\n",
    "plot_array(get_shift_array(6), fig, axes[1,2])\n",
    "\n",
    "plot_array(get_shift_array(5), fig, axes[2,0])\n",
    "\n",
    "\n",
    "\n",
    "plot_array(get_shift_array(4), fig, axes[0,2])\n",
    "\n",
    "plot_array(get_shift_array(3), fig, axes[2,2])\n",
    "\n",
    "plot_array(get_shift_array(2), fig, axes[1,0])\n",
    "\n",
    "plot_array(get_shift_array(1), fig, axes[0,1])\n",
    "\n",
    "\n",
    "plot_array(get_shift_array(0), fig, axes[2,1])\n",
    "\n",
    "\n",
    "\n",
    "\n",
    "fig.tight_layout()\n",
    "plt.show()"
   ]
  },
  {
   "cell_type": "code",
   "execution_count": 275,
   "metadata": {},
   "outputs": [
    {
     "data": {
      "text/plain": [
       "[(7, ([5, 4, 4, 4, 4, 4, 4, 2],)),\n",
       " (0, ([3, 3, 3, 2, 2, 1, 1, 1],)),\n",
       " (5, ([6, 5, 4, 2, 2, 0, 0, 0],)),\n",
       " (10, ([6, 6, 4, 3, 2, 2, 1, 0],)),\n",
       " (11, ([3, 2, 2, 2, 2, 2, 2, 2],)),\n",
       " (15, ([3, 3, 2, 2, 2, 2, 0, 0],)),\n",
       " (3, ([5, 5, 4, 4, 4, 4, 2, 0],)),\n",
       " (1, ([5, 5, 4, 2, 0, 0, 0, 0],)),\n",
       " (9, ([3, 2, 2, 2, 2, 0, 0, 0],)),\n",
       " (6, ([5, 5, 3, 3, 2, 2, 1, 1],)),\n",
       " (4, ([3, 3, 3, 3, 2, 1, 0, 0],)),\n",
       " (13, ([4, 3, 2, 2, 0, 0, 0, 0],)),\n",
       " (8, ([4, 4, 4, 3, 2, 2, 1, 0],)),\n",
       " (2, ([5, 3, 3, 3, 3, 2, 2, 1],)),\n",
       " (14, ([7, 5, 5, 4, 4, 3, 2, 1],)),\n",
       " (12, ([5, 5, 5, 4, 3, 2, 2, 1],))]"
      ]
     },
     "execution_count": 275,
     "metadata": {},
     "output_type": "execute_result"
    }
   ],
   "source": [
    "res"
   ]
  }
 ],
 "metadata": {
  "interpreter": {
   "hash": "fd9602a4d0446670d85b350beb613f1b7d5933ff0612e2552ad588ec8e90b7fb"
  },
  "kernelspec": {
   "display_name": "Python 3.9.7 ('base')",
   "language": "python",
   "name": "python3"
  },
  "language_info": {
   "codemirror_mode": {
    "name": "ipython",
    "version": 3
   },
   "file_extension": ".py",
   "mimetype": "text/x-python",
   "name": "python",
   "nbconvert_exporter": "python",
   "pygments_lexer": "ipython3",
   "version": "3.9.7"
  },
  "orig_nbformat": 4
 },
 "nbformat": 4,
 "nbformat_minor": 2
}
